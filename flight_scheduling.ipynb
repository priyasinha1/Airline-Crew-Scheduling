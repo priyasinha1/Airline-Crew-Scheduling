{
  "nbformat": 4,
  "nbformat_minor": 0,
  "metadata": {
    "colab": {
      "name": "BTP_18IM30016",
      "provenance": [],
      "collapsed_sections": []
    },
    "kernelspec": {
      "name": "python3",
      "display_name": "Python 3"
    },
    "language_info": {
      "name": "python"
    }
  },
  "cells": [
    {
      "cell_type": "markdown",
      "metadata": {
        "id": "flu0mvLn7j5o"
      },
      "source": [
        "Name- Priya Sinha"
      ]
    },
    {
      "cell_type": "markdown",
      "metadata": {
        "id": "6WPvmXPR7idN"
      },
      "source": [
        "Roll No.- 18IM30016"
      ]
    },
    {
      "cell_type": "markdown",
      "metadata": {
        "id": "a7tjBdLW7xdn"
      },
      "source": [
        "Supervisor- Prof. Goutam Sen"
      ]
    },
    {
      "cell_type": "markdown",
      "metadata": {
        "id": "oMVBssgiBHPr"
      },
      "source": [
        "FLIGHT SCHEDULING"
      ]
    },
    {
      "cell_type": "code",
      "metadata": {
        "id": "StPPI4UP7vAd"
      },
      "source": [
        "import pandas as pd  #Importing data\n",
        "import numpy as np   #For supporting arrays\n",
        "import cvxpy as cp   #Interger Linear Programming"
      ],
      "execution_count": null,
      "outputs": []
    },
    {
      "cell_type": "code",
      "metadata": {
        "colab": {
          "base_uri": "https://localhost:8080/"
        },
        "id": "a9Z9qhMd8hdC",
        "outputId": "0c3599a0-8085-42d2-f004-eb4d35ffddf5"
      },
      "source": [
        "from google.colab import drive\n",
        "drive.mount('/content/drive')"
      ],
      "execution_count": null,
      "outputs": [
        {
          "output_type": "stream",
          "name": "stdout",
          "text": [
            "Drive already mounted at /content/drive; to attempt to forcibly remount, call drive.mount(\"/content/drive\", force_remount=True).\n"
          ]
        }
      ]
    },
    {
      "cell_type": "code",
      "metadata": {
        "colab": {
          "base_uri": "https://localhost:8080/",
          "height": 457
        },
        "id": "bdX-goqb8r_x",
        "outputId": "bfa45b8a-bbdc-4fac-ad12-b8b06ab5d517"
      },
      "source": [
        "df = pd.read_csv(\"/content/drive/MyDrive/flight_schedule.csv\")\n",
        "df"
      ],
      "execution_count": null,
      "outputs": [
        {
          "output_type": "execute_result",
          "data": {
            "text/html": [
              "<div>\n",
              "<style scoped>\n",
              "    .dataframe tbody tr th:only-of-type {\n",
              "        vertical-align: middle;\n",
              "    }\n",
              "\n",
              "    .dataframe tbody tr th {\n",
              "        vertical-align: top;\n",
              "    }\n",
              "\n",
              "    .dataframe thead th {\n",
              "        text-align: right;\n",
              "    }\n",
              "</style>\n",
              "<table border=\"1\" class=\"dataframe\">\n",
              "  <thead>\n",
              "    <tr style=\"text-align: right;\">\n",
              "      <th></th>\n",
              "      <th>Unnamed: 0</th>\n",
              "      <th>Activity (Feasible Sequence of Flights)</th>\n",
              "      <th>Unnamed: 2</th>\n",
              "      <th>Unnamed: 3</th>\n",
              "      <th>Unnamed: 4</th>\n",
              "      <th>Unnamed: 5</th>\n",
              "      <th>Unnamed: 6</th>\n",
              "      <th>Unnamed: 7</th>\n",
              "      <th>Unnamed: 8</th>\n",
              "    </tr>\n",
              "  </thead>\n",
              "  <tbody>\n",
              "    <tr>\n",
              "      <th>0</th>\n",
              "      <td>Requirement (Flight)</td>\n",
              "      <td>1</td>\n",
              "      <td>2</td>\n",
              "      <td>3</td>\n",
              "      <td>4</td>\n",
              "      <td>5</td>\n",
              "      <td>6</td>\n",
              "      <td>7</td>\n",
              "      <td>8</td>\n",
              "    </tr>\n",
              "    <tr>\n",
              "      <th>1</th>\n",
              "      <td>New York to Buffalo</td>\n",
              "      <td>1</td>\n",
              "      <td>0</td>\n",
              "      <td>0</td>\n",
              "      <td>1</td>\n",
              "      <td>0</td>\n",
              "      <td>0</td>\n",
              "      <td>1</td>\n",
              "      <td>0</td>\n",
              "    </tr>\n",
              "    <tr>\n",
              "      <th>2</th>\n",
              "      <td>New York to Cincinnati</td>\n",
              "      <td>0</td>\n",
              "      <td>1</td>\n",
              "      <td>0</td>\n",
              "      <td>0</td>\n",
              "      <td>1</td>\n",
              "      <td>0</td>\n",
              "      <td>0</td>\n",
              "      <td>0</td>\n",
              "    </tr>\n",
              "    <tr>\n",
              "      <th>3</th>\n",
              "      <td>New York to Chicago</td>\n",
              "      <td>0</td>\n",
              "      <td>0</td>\n",
              "      <td>1</td>\n",
              "      <td>0</td>\n",
              "      <td>0</td>\n",
              "      <td>1</td>\n",
              "      <td>0</td>\n",
              "      <td>1</td>\n",
              "    </tr>\n",
              "    <tr>\n",
              "      <th>4</th>\n",
              "      <td>Buffalo to Chicago</td>\n",
              "      <td>2</td>\n",
              "      <td>0</td>\n",
              "      <td>0</td>\n",
              "      <td>2</td>\n",
              "      <td>0</td>\n",
              "      <td>0</td>\n",
              "      <td>0</td>\n",
              "      <td>0</td>\n",
              "    </tr>\n",
              "    <tr>\n",
              "      <th>5</th>\n",
              "      <td>Chicago to Cincinnati</td>\n",
              "      <td>0</td>\n",
              "      <td>0</td>\n",
              "      <td>2</td>\n",
              "      <td>3</td>\n",
              "      <td>0</td>\n",
              "      <td>2</td>\n",
              "      <td>0</td>\n",
              "      <td>0</td>\n",
              "    </tr>\n",
              "    <tr>\n",
              "      <th>6</th>\n",
              "      <td>Cincinnati to Pittsburgh</td>\n",
              "      <td>0</td>\n",
              "      <td>2</td>\n",
              "      <td>0</td>\n",
              "      <td>4</td>\n",
              "      <td>0</td>\n",
              "      <td>3</td>\n",
              "      <td>0</td>\n",
              "      <td>0</td>\n",
              "    </tr>\n",
              "    <tr>\n",
              "      <th>7</th>\n",
              "      <td>Cincinnati to Buffalo</td>\n",
              "      <td>0</td>\n",
              "      <td>0</td>\n",
              "      <td>3</td>\n",
              "      <td>0</td>\n",
              "      <td>2</td>\n",
              "      <td>0</td>\n",
              "      <td>0</td>\n",
              "      <td>0</td>\n",
              "    </tr>\n",
              "    <tr>\n",
              "      <th>8</th>\n",
              "      <td>Buffalo to New York</td>\n",
              "      <td>0</td>\n",
              "      <td>0</td>\n",
              "      <td>4</td>\n",
              "      <td>0</td>\n",
              "      <td>3</td>\n",
              "      <td>0</td>\n",
              "      <td>2</td>\n",
              "      <td>0</td>\n",
              "    </tr>\n",
              "    <tr>\n",
              "      <th>9</th>\n",
              "      <td>Pittsburgh to New York</td>\n",
              "      <td>0</td>\n",
              "      <td>3</td>\n",
              "      <td>0</td>\n",
              "      <td>5</td>\n",
              "      <td>0</td>\n",
              "      <td>4</td>\n",
              "      <td>0</td>\n",
              "      <td>0</td>\n",
              "    </tr>\n",
              "    <tr>\n",
              "      <th>10</th>\n",
              "      <td>Chicago to New York</td>\n",
              "      <td>3</td>\n",
              "      <td>0</td>\n",
              "      <td>0</td>\n",
              "      <td>0</td>\n",
              "      <td>0</td>\n",
              "      <td>0</td>\n",
              "      <td>0</td>\n",
              "      <td>2</td>\n",
              "    </tr>\n",
              "    <tr>\n",
              "      <th>11</th>\n",
              "      <td>Cost ($1000) for each sequence</td>\n",
              "      <td>5</td>\n",
              "      <td>4</td>\n",
              "      <td>4</td>\n",
              "      <td>9</td>\n",
              "      <td>7</td>\n",
              "      <td>8</td>\n",
              "      <td>3</td>\n",
              "      <td>3</td>\n",
              "    </tr>\n",
              "    <tr>\n",
              "      <th>12</th>\n",
              "      <td>Hours</td>\n",
              "      <td>396</td>\n",
              "      <td>352</td>\n",
              "      <td>1022</td>\n",
              "      <td>847</td>\n",
              "      <td>687</td>\n",
              "      <td>531</td>\n",
              "      <td>236</td>\n",
              "      <td>179</td>\n",
              "    </tr>\n",
              "  </tbody>\n",
              "</table>\n",
              "</div>"
            ],
            "text/plain": [
              "                        Unnamed: 0  ...  Unnamed: 8\n",
              "0             Requirement (Flight)  ...           8\n",
              "1              New York to Buffalo  ...           0\n",
              "2           New York to Cincinnati  ...           0\n",
              "3              New York to Chicago  ...           1\n",
              "4               Buffalo to Chicago  ...           0\n",
              "5            Chicago to Cincinnati  ...           0\n",
              "6         Cincinnati to Pittsburgh  ...           0\n",
              "7            Cincinnati to Buffalo  ...           0\n",
              "8              Buffalo to New York  ...           0\n",
              "9           Pittsburgh to New York  ...           0\n",
              "10             Chicago to New York  ...           2\n",
              "11  Cost ($1000) for each sequence  ...           3\n",
              "12                           Hours  ...         179\n",
              "\n",
              "[13 rows x 9 columns]"
            ]
          },
          "metadata": {},
          "execution_count": 4
        }
      ]
    },
    {
      "cell_type": "code",
      "metadata": {
        "id": "YOXRdsOe83oV"
      },
      "source": [
        "schedule = df.iloc[:-2]  #data for scheduled flights\n",
        "cost = df.iloc[-2]       #data for cost\n",
        "hours = df.iloc[-1]      #data for hours"
      ],
      "execution_count": null,
      "outputs": []
    },
    {
      "cell_type": "code",
      "metadata": {
        "colab": {
          "base_uri": "https://localhost:8080/",
          "height": 394
        },
        "id": "PWJXOTVq9Kvm",
        "outputId": "d31011da-d36e-48aa-e6b9-bad4e3031561"
      },
      "source": [
        "#if aircrafts are available then 1, if not then 0\n",
        "schedule = schedule.applymap(lambda x: 1 if x == 1 else x)\n",
        "schedule = schedule.applymap(lambda x: 1 if x == 2 else x)\n",
        "schedule = schedule.applymap(lambda x: 1 if x == 3 else x)\n",
        "schedule = schedule.applymap(lambda x: 1 if x == 4 else x)\n",
        "schedule = schedule.applymap(lambda x: 1 if x == 5 else x)\n",
        "schedule = schedule.applymap(lambda x: 1 if x == 6 else x)\n",
        "schedule = schedule.applymap(lambda x: 1 if x == 7 else x)\n",
        "schedule = schedule.applymap(lambda x: 1 if x == 8 else x)\n",
        "schedule = schedule.applymap(lambda x: 1 if x == 9 else x)\n",
        "\n",
        "\n",
        "schedule"
      ],
      "execution_count": null,
      "outputs": [
        {
          "output_type": "execute_result",
          "data": {
            "text/html": [
              "<div>\n",
              "<style scoped>\n",
              "    .dataframe tbody tr th:only-of-type {\n",
              "        vertical-align: middle;\n",
              "    }\n",
              "\n",
              "    .dataframe tbody tr th {\n",
              "        vertical-align: top;\n",
              "    }\n",
              "\n",
              "    .dataframe thead th {\n",
              "        text-align: right;\n",
              "    }\n",
              "</style>\n",
              "<table border=\"1\" class=\"dataframe\">\n",
              "  <thead>\n",
              "    <tr style=\"text-align: right;\">\n",
              "      <th></th>\n",
              "      <th>Unnamed: 0</th>\n",
              "      <th>Activity (Feasible Sequence of Flights)</th>\n",
              "      <th>Unnamed: 2</th>\n",
              "      <th>Unnamed: 3</th>\n",
              "      <th>Unnamed: 4</th>\n",
              "      <th>Unnamed: 5</th>\n",
              "      <th>Unnamed: 6</th>\n",
              "      <th>Unnamed: 7</th>\n",
              "      <th>Unnamed: 8</th>\n",
              "    </tr>\n",
              "  </thead>\n",
              "  <tbody>\n",
              "    <tr>\n",
              "      <th>0</th>\n",
              "      <td>Requirement (Flight)</td>\n",
              "      <td>1</td>\n",
              "      <td>1</td>\n",
              "      <td>1</td>\n",
              "      <td>1</td>\n",
              "      <td>1</td>\n",
              "      <td>1</td>\n",
              "      <td>1</td>\n",
              "      <td>1</td>\n",
              "    </tr>\n",
              "    <tr>\n",
              "      <th>1</th>\n",
              "      <td>New York to Buffalo</td>\n",
              "      <td>1</td>\n",
              "      <td>0</td>\n",
              "      <td>0</td>\n",
              "      <td>1</td>\n",
              "      <td>0</td>\n",
              "      <td>0</td>\n",
              "      <td>1</td>\n",
              "      <td>0</td>\n",
              "    </tr>\n",
              "    <tr>\n",
              "      <th>2</th>\n",
              "      <td>New York to Cincinnati</td>\n",
              "      <td>0</td>\n",
              "      <td>1</td>\n",
              "      <td>0</td>\n",
              "      <td>0</td>\n",
              "      <td>1</td>\n",
              "      <td>0</td>\n",
              "      <td>0</td>\n",
              "      <td>0</td>\n",
              "    </tr>\n",
              "    <tr>\n",
              "      <th>3</th>\n",
              "      <td>New York to Chicago</td>\n",
              "      <td>0</td>\n",
              "      <td>0</td>\n",
              "      <td>1</td>\n",
              "      <td>0</td>\n",
              "      <td>0</td>\n",
              "      <td>1</td>\n",
              "      <td>0</td>\n",
              "      <td>1</td>\n",
              "    </tr>\n",
              "    <tr>\n",
              "      <th>4</th>\n",
              "      <td>Buffalo to Chicago</td>\n",
              "      <td>1</td>\n",
              "      <td>0</td>\n",
              "      <td>0</td>\n",
              "      <td>1</td>\n",
              "      <td>0</td>\n",
              "      <td>0</td>\n",
              "      <td>0</td>\n",
              "      <td>0</td>\n",
              "    </tr>\n",
              "    <tr>\n",
              "      <th>5</th>\n",
              "      <td>Chicago to Cincinnati</td>\n",
              "      <td>0</td>\n",
              "      <td>0</td>\n",
              "      <td>1</td>\n",
              "      <td>1</td>\n",
              "      <td>0</td>\n",
              "      <td>1</td>\n",
              "      <td>0</td>\n",
              "      <td>0</td>\n",
              "    </tr>\n",
              "    <tr>\n",
              "      <th>6</th>\n",
              "      <td>Cincinnati to Pittsburgh</td>\n",
              "      <td>0</td>\n",
              "      <td>1</td>\n",
              "      <td>0</td>\n",
              "      <td>1</td>\n",
              "      <td>0</td>\n",
              "      <td>1</td>\n",
              "      <td>0</td>\n",
              "      <td>0</td>\n",
              "    </tr>\n",
              "    <tr>\n",
              "      <th>7</th>\n",
              "      <td>Cincinnati to Buffalo</td>\n",
              "      <td>0</td>\n",
              "      <td>0</td>\n",
              "      <td>1</td>\n",
              "      <td>0</td>\n",
              "      <td>1</td>\n",
              "      <td>0</td>\n",
              "      <td>0</td>\n",
              "      <td>0</td>\n",
              "    </tr>\n",
              "    <tr>\n",
              "      <th>8</th>\n",
              "      <td>Buffalo to New York</td>\n",
              "      <td>0</td>\n",
              "      <td>0</td>\n",
              "      <td>1</td>\n",
              "      <td>0</td>\n",
              "      <td>1</td>\n",
              "      <td>0</td>\n",
              "      <td>1</td>\n",
              "      <td>0</td>\n",
              "    </tr>\n",
              "    <tr>\n",
              "      <th>9</th>\n",
              "      <td>Pittsburgh to New York</td>\n",
              "      <td>0</td>\n",
              "      <td>1</td>\n",
              "      <td>0</td>\n",
              "      <td>1</td>\n",
              "      <td>0</td>\n",
              "      <td>1</td>\n",
              "      <td>0</td>\n",
              "      <td>0</td>\n",
              "    </tr>\n",
              "    <tr>\n",
              "      <th>10</th>\n",
              "      <td>Chicago to New York</td>\n",
              "      <td>1</td>\n",
              "      <td>0</td>\n",
              "      <td>0</td>\n",
              "      <td>0</td>\n",
              "      <td>0</td>\n",
              "      <td>0</td>\n",
              "      <td>0</td>\n",
              "      <td>1</td>\n",
              "    </tr>\n",
              "  </tbody>\n",
              "</table>\n",
              "</div>"
            ],
            "text/plain": [
              "                  Unnamed: 0  ...  Unnamed: 8\n",
              "0       Requirement (Flight)  ...           1\n",
              "1        New York to Buffalo  ...           0\n",
              "2     New York to Cincinnati  ...           0\n",
              "3        New York to Chicago  ...           1\n",
              "4         Buffalo to Chicago  ...           0\n",
              "5      Chicago to Cincinnati  ...           0\n",
              "6   Cincinnati to Pittsburgh  ...           0\n",
              "7      Cincinnati to Buffalo  ...           0\n",
              "8        Buffalo to New York  ...           0\n",
              "9     Pittsburgh to New York  ...           0\n",
              "10       Chicago to New York  ...           1\n",
              "\n",
              "[11 rows x 9 columns]"
            ]
          },
          "metadata": {},
          "execution_count": 6
        }
      ]
    },
    {
      "cell_type": "code",
      "metadata": {
        "colab": {
          "base_uri": "https://localhost:8080/"
        },
        "id": "nxVY0vTH9WZi",
        "outputId": "9cb49077-01f1-4f80-d35f-d287df382507"
      },
      "source": [
        "a = schedule.values\n",
        "a = np.delete(a, [0], axis =1)\n",
        "a = np.delete(a,[0], axis =0)\n",
        "print(a) #array for scheduled flights\n",
        "\n",
        "b = np.ones(len(a))\n",
        "print(b) #array for atleast one trip\n",
        "\n",
        "c = cost.values[1:]\n",
        "print(c) #array for cost"
      ],
      "execution_count": null,
      "outputs": [
        {
          "output_type": "stream",
          "name": "stdout",
          "text": [
            "[[1 0 0 1 0 0 1 0]\n",
            " [0 1 0 0 1 0 0 0]\n",
            " [0 0 1 0 0 1 0 1]\n",
            " [1 0 0 1 0 0 0 0]\n",
            " [0 0 1 1 0 1 0 0]\n",
            " [0 1 0 1 0 1 0 0]\n",
            " [0 0 1 0 1 0 0 0]\n",
            " [0 0 1 0 1 0 1 0]\n",
            " [0 1 0 1 0 1 0 0]\n",
            " [1 0 0 0 0 0 0 1]]\n",
            "[1. 1. 1. 1. 1. 1. 1. 1. 1. 1.]\n",
            "[5 4 4 9 7 8 3 3]\n"
          ]
        }
      ]
    },
    {
      "cell_type": "code",
      "metadata": {
        "colab": {
          "base_uri": "https://localhost:8080/"
        },
        "id": "M6e_39Tp9bc-",
        "outputId": "be960713-1b2b-437e-e556-0298593c6078"
      },
      "source": [
        "h = hours.values[1:]\n",
        "h  #array for hours"
      ],
      "execution_count": null,
      "outputs": [
        {
          "output_type": "execute_result",
          "data": {
            "text/plain": [
              "array([396, 352, 1022, 847, 687, 531, 236, 179], dtype=object)"
            ]
          },
          "metadata": {},
          "execution_count": 8
        }
      ]
    },
    {
      "cell_type": "code",
      "metadata": {
        "id": "irfflpeN-Bas"
      },
      "source": [
        "y = cp.Variable(len(c), boolean=True)  #scalaroptimization variable"
      ],
      "execution_count": null,
      "outputs": []
    },
    {
      "cell_type": "code",
      "metadata": {
        "id": "4hxL76Cs-VEP"
      },
      "source": [
        "obj = cp.Minimize(c @ y) #defining objective"
      ],
      "execution_count": null,
      "outputs": []
    },
    {
      "cell_type": "code",
      "metadata": {
        "id": "SyT0-AkL-aqD"
      },
      "source": [
        "constraints = [a @ y >= b, h @ y <= 1700]"
      ],
      "execution_count": null,
      "outputs": []
    },
    {
      "cell_type": "code",
      "metadata": {
        "colab": {
          "base_uri": "https://localhost:8080/"
        },
        "id": "5DDyGlV2-prP",
        "outputId": "43bb2c7c-3d08-40d9-bfe9-70f2b519f256"
      },
      "source": [
        "prob = cp.Problem(obj, constraints)\n",
        "prob.solve(solver=cp.GLPK_MI)"
      ],
      "execution_count": null,
      "outputs": [
        {
          "output_type": "execute_result",
          "data": {
            "text/plain": [
              "20.0"
            ]
          },
          "metadata": {},
          "execution_count": 12
        }
      ]
    },
    {
      "cell_type": "code",
      "metadata": {
        "colab": {
          "base_uri": "https://localhost:8080/"
        },
        "id": "Dif85xvc-rc0",
        "outputId": "3d2a96fa-2f2b-469f-eb73-1d2d397d1661"
      },
      "source": [
        "print(y.value)"
      ],
      "execution_count": null,
      "outputs": [
        {
          "output_type": "stream",
          "name": "stdout",
          "text": [
            "[1. 0. 0. 0. 1. 1. 0. 0.]\n"
          ]
        }
      ]
    },
    {
      "cell_type": "code",
      "metadata": {
        "colab": {
          "base_uri": "https://localhost:8080/"
        },
        "id": "ao3rkLYy-uCb",
        "outputId": "6d1797e7-78c3-47c1-9fce-4e9422b98928"
      },
      "source": [
        "z = schedule.values\n",
        "z= np.delete(z,[0], axis =0)\n",
        "s = y.value\n",
        "print(z)"
      ],
      "execution_count": null,
      "outputs": [
        {
          "output_type": "stream",
          "name": "stdout",
          "text": [
            "[['New York to Buffalo' 1 0 0 1 0 0 1 0]\n",
            " ['New York to Cincinnati' 0 1 0 0 1 0 0 0]\n",
            " ['New York to Chicago' 0 0 1 0 0 1 0 1]\n",
            " ['Buffalo to Chicago' 1 0 0 1 0 0 0 0]\n",
            " ['Chicago to Cincinnati' 0 0 1 1 0 1 0 0]\n",
            " ['Cincinnati to Pittsburgh' 0 1 0 1 0 1 0 0]\n",
            " ['Cincinnati to Buffalo' 0 0 1 0 1 0 0 0]\n",
            " ['Buffalo to New York' 0 0 1 0 1 0 1 0]\n",
            " ['Pittsburgh to New York' 0 1 0 1 0 1 0 0]\n",
            " ['Chicago to New York' 1 0 0 0 0 0 0 1]]\n"
          ]
        }
      ]
    },
    {
      "cell_type": "code",
      "metadata": {
        "colab": {
          "base_uri": "https://localhost:8080/"
        },
        "id": "mRzoY-he-yH3",
        "outputId": "8f84641b-7424-486c-a383-2b398e3dd08e"
      },
      "source": [
        "for k in range(len(s)):\n",
        "  if s[k]==1:\n",
        "    for i in range(len(z)):  \n",
        "      if z[i][k+1]==1:\n",
        "        print(z[i][0])    \n",
        "    print(\"\\n\")"
      ],
      "execution_count": null,
      "outputs": [
        {
          "output_type": "stream",
          "name": "stdout",
          "text": [
            "New York to Buffalo\n",
            "Buffalo to Chicago\n",
            "Chicago to New York\n",
            "\n",
            "\n",
            "New York to Cincinnati\n",
            "Cincinnati to Buffalo\n",
            "Buffalo to New York\n",
            "\n",
            "\n",
            "New York to Chicago\n",
            "Chicago to Cincinnati\n",
            "Cincinnati to Pittsburgh\n",
            "Pittsburgh to New York\n",
            "\n",
            "\n"
          ]
        }
      ]
    },
    {
      "cell_type": "code",
      "metadata": {
        "id": "Qj17Gg8a-08P"
      },
      "source": [
        "ti= [750, 935, 960, 965, 1065, 1125, 1135, 1245, 1385, 1395]   # flight start time in minutes\n",
        "Ti= [130, 125, 175, 150, 132, 160, 175, 130, 160, 170]         # time taken by airplane 2-way in minutes\n",
        "Ni= [160, 180, 175, 170, 165, 160, 173, 174, 175, 180]         # no. of passengers\n",
        "oi= [250, 250, 250, 400, 250, 250, 400, 250, 250, 400]         # compensation amount\n",
        "\n",
        "captain= [1,1,1,1,1,2,2,2,2,2,3,3,3,3,3,4,4,4,4,4,4,4,5,5,5,5,5,5,6,6,6,6,6,7,7,7,7,7,7,7,8,9]\n",
        "first_officer= [1,4,5,6,8,2,6,7,8,9,3,4,6,8,10,1,2,4,5,7,9,10,3,4,5,7,8,9,1,2,3,6,9,1,2,3,5,7,9,10,8,9]\n",
        "crew_time_unchanged = [150, 170, 150, 220, 200, 220, 220, 200, 220, 220, 170, 170, 220, 200, 170, 150, 140, 170, 140, 140, 140, 140, 200, 200, 200, 200, 200, 200, 150, 80, 50, 220,50, 150, 80, 80, 140, 80, 80, 80, 200,0]\n",
        "crew_time = [150, 170, 150, 220, 200, 220, 220, 200, 220, 220, 170, 170, 220, 200, 170, 150, 140, 170, 140, 140, 140, 140, 200, 200, 200, 200, 200, 200, 150, 80, 50, 220,50, 150, 80, 80, 140, 80, 80, 80, 200,0]"
      ],
      "execution_count": null,
      "outputs": []
    },
    {
      "cell_type": "code",
      "metadata": {
        "colab": {
          "base_uri": "https://localhost:8080/"
        },
        "id": "IlQM66U1-86v",
        "outputId": "1eb69830-9eea-43bf-9f30-a202df34362f"
      },
      "source": [
        "def CREWSCHEDULE(Ti,crew_time,captain,first_officer):\n",
        "  p = [] #for storing index of the crew\n",
        "  tme = [] #for storing crew time of the selected crew\n",
        "  cap = 0\n",
        "  off = 0\n",
        "  for i in range(0,3):\n",
        "      mini = min([k for k in crew_time if k >Ti[i]])\n",
        "      for j in range(0,len(crew_time)):\n",
        "          if crew_time[j]== mini and captain[j]!=cap and first_officer[j]!=off:\n",
        "              p.append(j)\n",
        "              tme.append(crew_time[j])\n",
        "              crew_time[j] = -1\n",
        "              cap = captain[j]\n",
        "              off = first_officer[j]\n",
        "              break\n",
        "  for i in range(0, len(p)-2):\n",
        "    if captain[p[i]] == captain[p[i+2]]:\n",
        "        if T[i] <= (ti[i+2]-ti[i]):\n",
        "            captain[p[i+2]] = 1000000*(captain[p[i]])\n",
        "    elif first_officer[p[i]] == first_officer[p[i+2]]:\n",
        "        if T[i] <= (ti[i+2]-ti[i]):\n",
        "            first_officer[p[i+2]] = 1000000*(first_officer[p[i]])\n",
        "  for i in range(len(p)):\n",
        "      print(\"Airplane for Trip\",i+1,\"-\",\":\", \"first officer: \",first_officer[p[i]],\"/\" ,\"captain: \",captain[p[i]])\n",
        "  print(\" \")\n",
        "  print('combination no.: ', p)             # numbering starts from 0\n",
        "  print('combination fly time: ', tme)\n",
        "  return p\n",
        "my_p = CREWSCHEDULE(Ti,crew_time,captain,first_officer)   "
      ],
      "execution_count": null,
      "outputs": [
        {
          "output_type": "stream",
          "name": "stdout",
          "text": [
            "Airplane for Trip 1 - : first officer:  2 / captain:  4\n",
            "Airplane for Trip 2 - : first officer:  5 / captain:  7\n",
            "Airplane for Trip 3 - : first officer:  8 / captain:  1\n",
            " \n",
            "combination no.:  [16, 36, 4]\n",
            "combination fly time:  [140, 140, 200]\n"
          ]
        }
      ]
    },
    {
      "cell_type": "markdown",
      "metadata": {
        "id": "ZE93Bo7OA7SY"
      },
      "source": [
        "CREW SCHEDULING"
      ]
    },
    {
      "cell_type": "code",
      "metadata": {
        "id": "Bj4MaxIK_B8W"
      },
      "source": [
        "ti= [750, 935, 960, 965, 1065, 1125, 1135, 1245, 1385, 1395]   # flight start time in minutes\n",
        "Ti= [130, 125, 125, 150, 132, 160, 175, 130, 160, 170]         # time taken by airplane 2-way in minutes\n",
        "Ni= [160, 180, 175, 170, 165, 160, 173, 174, 175, 180]         # no. of passengers\n",
        "oi= [250, 250, 250, 400, 250, 250, 400, 250, 250, 400]         # compensation amount\n",
        "\n",
        "captain= [1,1,1,1,1,2,2,2,2,2,3,3,3,3,3,4,4,4,4,4,4,4,5,5,5,5,5,5,6,6,6,6,6,7,7,7,7,7,7,7,8,9]\n",
        "first_officer= [1,4,5,6,8,2,6,7,8,9,3,4,6,8,10,1,2,4,5,7,9,10,3,4,5,7,8,9,1,2,3,6,9,1,2,3,5,7,9,10,8,9]\n",
        "crew_time_unchanged = [150, 170, 150, 220, 200, 220, 220, 200, 220, 220, 170, 170, 220, 200, 170, 150, 140, 170, 140, 140, 140, 140, 200, 200, 200, 200, 200, 200, 150, 80, 50, 220,50, 150, 80, 80, 140, 80, 80, 80, 200,0]\n",
        "crew_time = [150, 170, 150, 220, 200, 220, 220, 200, 220, 220, 170, 170, 220, 200, 170, 150, 140, 170, 140, 140, 140, 140, 200, 200, 200, 200, 200, 200, 150, 80, 50, 220,50, 150, 80, 80, 140, 80, 80, 80, 200,0]\n"
      ],
      "execution_count": null,
      "outputs": []
    },
    {
      "cell_type": "code",
      "metadata": {
        "colab": {
          "base_uri": "https://localhost:8080/"
        },
        "id": "YRY5ENVcBRZ9",
        "outputId": "0980fcaa-6408-4d32-bf81-d50f2a51ec94"
      },
      "source": [
        "p = []  #for storing index of the crew\n",
        "tme = [] #for storing crew time of the selected crew\n",
        "pair_time = 0\n",
        "cap = 0\n",
        "off = 0\n",
        "for i in range(0,len(Ti)):\n",
        "    mini = min([k for k in crew_time if k >Ti[i]])\n",
        "    for j in range(0,len(crew_time)):\n",
        "        if crew_time[j]== mini and captain[j]!=cap and first_officer[j]!=off:\n",
        "            p.append(j)\n",
        "            tme.append(crew_time[j])\n",
        "            crew_time[j] = -1\n",
        "            cap = captain[j]\n",
        "            off = first_officer[j]\n",
        "            break\n",
        "\n",
        "for i in range(10):\n",
        "    print(\"Crew assigned to Flight\",i+1,\":\", \"first officer: \",first_officer[p[i]],\"/\" ,\"captain: \",captain[p[i]])\n",
        "for i in tme:\n",
        "  pair_time += i\n",
        "    \n",
        "print('combination no.: ', p)\n",
        "print('combination fly time: ', tme)\n",
        "print('minimium crew pairing time: ', pair_time)"
      ],
      "execution_count": null,
      "outputs": [
        {
          "output_type": "stream",
          "name": "stdout",
          "text": [
            "Crew assigned to Flight 1 : first officer:  2 / captain:  4\n",
            "Crew assigned to Flight 2 : first officer:  5 / captain:  7\n",
            "Crew assigned to Flight 3 : first officer:  7 / captain:  4\n",
            "Crew assigned to Flight 4 : first officer:  4 / captain:  1\n",
            "Crew assigned to Flight 5 : first officer:  5 / captain:  4\n",
            "Crew assigned to Flight 6 : first officer:  3 / captain:  3\n",
            "Crew assigned to Flight 7 : first officer:  8 / captain:  1\n",
            "Crew assigned to Flight 8 : first officer:  9 / captain:  4\n",
            "Crew assigned to Flight 9 : first officer:  4 / captain:  3\n",
            "Crew assigned to Flight 10 : first officer:  7 / captain:  2\n",
            "combination no.:  [16, 36, 19, 1, 18, 10, 4, 20, 11, 7]\n",
            "combination fly time:  [140, 140, 140, 170, 140, 170, 200, 140, 170, 200]\n",
            "minimium crew pairing time:  1610\n"
          ]
        }
      ]
    },
    {
      "cell_type": "code",
      "metadata": {
        "colab": {
          "base_uri": "https://localhost:8080/"
        },
        "id": "xAEgcKSVBWh_",
        "outputId": "8be1f105-c87c-486d-a1f9-ebfca9f32744"
      },
      "source": [
        "# A value 1000000 represents that first_officer or captain wont return in the time for next flight assigned to him\n",
        "# So a different (first_officer - Captain) pair needs to be assigned\n",
        "for i in range(0, len(p)-2):\n",
        "    if captain[p[i]] == captain[p[i+2]]:\n",
        "        if tme[i] >= (ti[i+2]-ti[i]):\n",
        "            captain[p[i+2]] = 1000000*(captain[p[i]])\n",
        "    elif first_officer[p[i]] == first_officer[p[i+2]]:\n",
        "        if tme[i] >= (ti[i+2]-ti[i]):\n",
        "            first_officer[p[i+2]] = 1000000*(first_officer[p[i]])\n",
        "\n",
        "for i in range(10):\n",
        "  if captain[p[i]]%1000000 == 0:\n",
        "    print(\"Crew assigned to Flight\",i+1,\":\", \"first officer: \",first_officer[p[i]],\"/\" ,\"captain: \",int(captain[p[i]]/1000000), \"[Still on flight\", i-1, ', infeasible assignment]')\n",
        "  else:\n",
        "    print(\"Crew assigned to Flight\",i+1,\":\", \"first officer: \",first_officer[p[i]],\"/\" ,\"captain: \",captain[p[i]])\n",
        "    "
      ],
      "execution_count": null,
      "outputs": [
        {
          "output_type": "stream",
          "name": "stdout",
          "text": [
            "Crew assigned to Flight 1 : first officer:  2 / captain:  4\n",
            "Crew assigned to Flight 2 : first officer:  5 / captain:  7\n",
            "Crew assigned to Flight 3 : first officer:  7 / captain:  4\n",
            "Crew assigned to Flight 4 : first officer:  4 / captain:  1\n",
            "Crew assigned to Flight 5 : first officer:  5 / captain:  4 [Still on flight 3 , infeasible assignment]\n",
            "Crew assigned to Flight 6 : first officer:  3 / captain:  3\n",
            "Crew assigned to Flight 7 : first officer:  8 / captain:  1\n",
            "Crew assigned to Flight 8 : first officer:  9 / captain:  4\n",
            "Crew assigned to Flight 9 : first officer:  4 / captain:  3\n",
            "Crew assigned to Flight 10 : first officer:  7 / captain:  2\n"
          ]
        }
      ]
    },
    {
      "cell_type": "code",
      "metadata": {
        "colab": {
          "base_uri": "https://localhost:8080/"
        },
        "id": "8i19jPGeBsII",
        "outputId": "94b0ab70-7f77-41b7-c971-373228356141"
      },
      "source": [
        "print(\"compensation cost= $\",Ni[4]*oi[4])"
      ],
      "execution_count": null,
      "outputs": [
        {
          "output_type": "stream",
          "name": "stdout",
          "text": [
            "compensation cost= $ 41250\n"
          ]
        }
      ]
    },
    {
      "cell_type": "code",
      "metadata": {
        "id": "iWTPsj4DCIW2"
      },
      "source": [
        ""
      ],
      "execution_count": null,
      "outputs": []
    }
  ]
}