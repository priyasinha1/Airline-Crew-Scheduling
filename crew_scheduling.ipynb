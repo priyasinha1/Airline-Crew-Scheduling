{
  "nbformat": 4,
  "nbformat_minor": 0,
  "metadata": {
    "colab": {
      "name": "Flight.ipynb",
      "provenance": [],
      "collapsed_sections": []
    },
    "kernelspec": {
      "name": "python3",
      "display_name": "Python 3"
    },
    "language_info": {
      "name": "python"
    }
  },
  "cells": [
    {
      "cell_type": "code",
      "metadata": {
        "id": "cFaIpxHsH0NS"
      },
      "source": [
        "import pandas as pd"
      ],
      "execution_count": null,
      "outputs": []
    },
    {
      "cell_type": "code",
      "metadata": {
        "id": "lmhA7fw5IB3O"
      },
      "source": [
        "ti= [750, 935, 960, 965, 1065, 1125, 1135, 1245, 1385, 1395]   # flight start time in minutes\n",
        "Ti= [130, 125, 125, 150, 132, 160, 175, 130, 160, 170]         # time taken by airplane 2-way in minutes\n",
        "Ni= [160, 180, 175, 170, 165, 160, 173, 174, 175, 180]         # no. of passengers\n",
        "oi= [250, 250, 250, 400, 250, 250, 400, 250, 250, 400]         # compensation amount\n",
        "\n",
        "captain= [1,1,1,1,1,2,2,2,2,2,3,3,3,3,3,4,4,4,4,4,4,4,5,5,5,5,5,5,6,6,6,6,6,7,7,7,7,7,7,7,8,9]\n",
        "first_officer= [1,4,5,6,8,2,6,7,8,9,3,4,6,8,10,1,2,4,5,7,9,10,3,4,5,7,8,9,1,2,3,6,9,1,2,3,5,7,9,10,8,9]\n",
        "crew_time_unchanged = [150, 170, 150, 220, 200, 220, 220, 200, 220, 220, 170, 170, 220, 200, 170, 150, 140, 170, 140, 140, 140, 140, 200, 200, 200, 200, 200, 200, 150, 80, 50, 220,50, 150, 80, 80, 140, 80, 80, 80, 200,0]\n",
        "crew_time = [150, 170, 150, 220, 200, 220, 220, 200, 220, 220, 170, 170, 220, 200, 170, 150, 140, 170, 140, 140, 140, 140, 200, 200, 200, 200, 200, 200, 150, 80, 50, 220,50, 150, 80, 80, 140, 80, 80, 80, 200,0]\n"
      ],
      "execution_count": null,
      "outputs": []
    },
    {
      "cell_type": "code",
      "metadata": {
        "colab": {
          "base_uri": "https://localhost:8080/"
        },
        "id": "Skco0XY0aXL4",
        "outputId": "92d5a3a6-c005-41a2-8b40-6f308110db38"
      },
      "source": [
        "def CREWSCHEDULE(Ti,crew_time,captain,first_officer):\n",
        "  p = []\n",
        "  tme = []\n",
        "  cap = 0\n",
        "  off = 0\n",
        "  for i in range(0,len(Ti)):\n",
        "      mini = min([k for k in crew_time if k >Ti[i]])\n",
        "      for j in range(0,len(crew_time)):\n",
        "          if crew_time[j]== mini and captain[j]!=cap and first_officer[j]!=off:\n",
        "              p.append(j)\n",
        "              tme.append(crew_time[j])\n",
        "              crew_time[j] = -1\n",
        "              cap = captain[j]\n",
        "              off = first_officer[j]\n",
        "              break\n",
        "  for i in range(0, len(p)-2):\n",
        "    if captain[p[i]] == captain[p[i+2]]:\n",
        "        if Ti[i] <= (ti[i+2]-ti[i]):\n",
        "            captain[p[i+2]] = 1000000*(captain[p[i]])\n",
        "    elif first_officer[p[i]] == first_officer[p[i+2]]:\n",
        "        if Ti[i] <= (ti[i+2]-ti[i]):\n",
        "            first_officer[p[i+2]] = 1000000*(first_officer[p[i]])\n",
        "  for i in range(len(p)):\n",
        "      print(\"Crew assigned to Flight\",i+1,\":\", \"first officer: \",first_officer[p[i]],\"/\" ,\"captain: \",captain[p[i]])\n",
        "  print(\" \")\n",
        "  print('combination no.: ', p)             # numbering starts from 0\n",
        "  print('combination fly time: ', tme)\n",
        "  return p\n",
        "my_p = CREWSCHEDULE(Ti,crew_time,captain,first_officer)   "
      ],
      "execution_count": null,
      "outputs": [
        {
          "output_type": "stream",
          "name": "stdout",
          "text": [
            "Crew assigned to Flight 1 : first officer:  2 / captain:  4\n",
            "Crew assigned to Flight 2 : first officer:  5 / captain:  7\n",
            "Crew assigned to Flight 3 : first officer:  7 / captain:  4000000\n",
            "Crew assigned to Flight 4 : first officer:  4 / captain:  1\n",
            "Crew assigned to Flight 5 : first officer:  5 / captain:  4\n",
            "Crew assigned to Flight 6 : first officer:  3 / captain:  3\n",
            "Crew assigned to Flight 7 : first officer:  8 / captain:  1\n",
            "Crew assigned to Flight 8 : first officer:  9 / captain:  4\n",
            "Crew assigned to Flight 9 : first officer:  4 / captain:  3\n",
            "Crew assigned to Flight 10 : first officer:  7 / captain:  2\n",
            " \n",
            "combination no.:  [16, 36, 19, 1, 18, 10, 4, 20, 11, 7]\n",
            "combination fly time:  [140, 140, 140, 170, 140, 170, 200, 140, 170, 200]\n"
          ]
        }
      ]
    },
    {
      "cell_type": "code",
      "metadata": {
        "id": "58DQ4vsXcdvX"
      },
      "source": [
        ""
      ],
      "execution_count": null,
      "outputs": []
    },
    {
      "cell_type": "code",
      "metadata": {
        "id": "9fCSSGZ1cdy6"
      },
      "source": [
        ""
      ],
      "execution_count": null,
      "outputs": []
    },
    {
      "cell_type": "code",
      "metadata": {
        "id": "n6wTLgfncd4r"
      },
      "source": [
        ""
      ],
      "execution_count": null,
      "outputs": []
    },
    {
      "cell_type": "code",
      "metadata": {
        "id": "PQRVEWxScd7w"
      },
      "source": [
        ""
      ],
      "execution_count": null,
      "outputs": []
    },
    {
      "cell_type": "code",
      "metadata": {
        "id": "TpwnqKyYcd_T"
      },
      "source": [
        ""
      ],
      "execution_count": null,
      "outputs": []
    },
    {
      "cell_type": "code",
      "metadata": {
        "colab": {
          "base_uri": "https://localhost:8080/"
        },
        "id": "Nfy-wparwyx2",
        "outputId": "e6e538af-daf9-4462-dc5d-522d76b53f28"
      },
      "source": [
        "def RESCHEDULE(my_p,crew_time,captain,first_officer):\n",
        "  nos = []\n",
        "  pos = [0,1]\n",
        "  for i in range(2,len(my_p)):\n",
        "    if captain[my_p[i]]%1000000 == 0 or first_officer[my_p[i]]%1000000 == 0:\n",
        "      nos.append(i)\n",
        "    else:\n",
        "      pos.append(i)\n",
        "  return [nos, pos]\n",
        "RESCHEDULE(my_p,crew_time,captain,first_officer)"
      ],
      "execution_count": null,
      "outputs": [
        {
          "output_type": "execute_result",
          "data": {
            "text/plain": [
              "[[4], [0, 1, 2, 3, 5, 6, 7, 8, 9]]"
            ]
          },
          "metadata": {},
          "execution_count": 148
        }
      ]
    },
    {
      "cell_type": "code",
      "metadata": {
        "id": "FwUCDkYkIbaU"
      },
      "source": [
        "df = pd.DataFrame({'Start_time (ti)': ti, 'Flight_duration (Ti)': Ti, 'No._of_passengers (Ni)': Ni, 'Compensation_amount (Oi)': oi})\n",
        "pf = pd.DataFrame({'Captain': captain, 'First_officer': first_officer, 'Pair_Time': crew_time})"
      ],
      "execution_count": null,
      "outputs": []
    },
    {
      "cell_type": "code",
      "metadata": {
        "colab": {
          "base_uri": "https://localhost:8080/",
          "height": 1000
        },
        "id": "DfP7VXBYc9T6",
        "outputId": "79679de2-b9e3-4473-b5ef-30dffc1bfd60"
      },
      "source": [
        "pf"
      ],
      "execution_count": null,
      "outputs": [
        {
          "output_type": "execute_result",
          "data": {
            "text/html": [
              "<div>\n",
              "<style scoped>\n",
              "    .dataframe tbody tr th:only-of-type {\n",
              "        vertical-align: middle;\n",
              "    }\n",
              "\n",
              "    .dataframe tbody tr th {\n",
              "        vertical-align: top;\n",
              "    }\n",
              "\n",
              "    .dataframe thead th {\n",
              "        text-align: right;\n",
              "    }\n",
              "</style>\n",
              "<table border=\"1\" class=\"dataframe\">\n",
              "  <thead>\n",
              "    <tr style=\"text-align: right;\">\n",
              "      <th></th>\n",
              "      <th>Captain</th>\n",
              "      <th>First_officer</th>\n",
              "      <th>Pair_Time</th>\n",
              "    </tr>\n",
              "  </thead>\n",
              "  <tbody>\n",
              "    <tr>\n",
              "      <th>0</th>\n",
              "      <td>1</td>\n",
              "      <td>1</td>\n",
              "      <td>150</td>\n",
              "    </tr>\n",
              "    <tr>\n",
              "      <th>1</th>\n",
              "      <td>1</td>\n",
              "      <td>4</td>\n",
              "      <td>170</td>\n",
              "    </tr>\n",
              "    <tr>\n",
              "      <th>2</th>\n",
              "      <td>1</td>\n",
              "      <td>5</td>\n",
              "      <td>150</td>\n",
              "    </tr>\n",
              "    <tr>\n",
              "      <th>3</th>\n",
              "      <td>1</td>\n",
              "      <td>6</td>\n",
              "      <td>220</td>\n",
              "    </tr>\n",
              "    <tr>\n",
              "      <th>4</th>\n",
              "      <td>1</td>\n",
              "      <td>8</td>\n",
              "      <td>200</td>\n",
              "    </tr>\n",
              "    <tr>\n",
              "      <th>5</th>\n",
              "      <td>2</td>\n",
              "      <td>2</td>\n",
              "      <td>220</td>\n",
              "    </tr>\n",
              "    <tr>\n",
              "      <th>6</th>\n",
              "      <td>2</td>\n",
              "      <td>6</td>\n",
              "      <td>220</td>\n",
              "    </tr>\n",
              "    <tr>\n",
              "      <th>7</th>\n",
              "      <td>2</td>\n",
              "      <td>7</td>\n",
              "      <td>200</td>\n",
              "    </tr>\n",
              "    <tr>\n",
              "      <th>8</th>\n",
              "      <td>2</td>\n",
              "      <td>8</td>\n",
              "      <td>220</td>\n",
              "    </tr>\n",
              "    <tr>\n",
              "      <th>9</th>\n",
              "      <td>2</td>\n",
              "      <td>9</td>\n",
              "      <td>220</td>\n",
              "    </tr>\n",
              "    <tr>\n",
              "      <th>10</th>\n",
              "      <td>3</td>\n",
              "      <td>3</td>\n",
              "      <td>170</td>\n",
              "    </tr>\n",
              "    <tr>\n",
              "      <th>11</th>\n",
              "      <td>3</td>\n",
              "      <td>4</td>\n",
              "      <td>170</td>\n",
              "    </tr>\n",
              "    <tr>\n",
              "      <th>12</th>\n",
              "      <td>3</td>\n",
              "      <td>6</td>\n",
              "      <td>220</td>\n",
              "    </tr>\n",
              "    <tr>\n",
              "      <th>13</th>\n",
              "      <td>3</td>\n",
              "      <td>8</td>\n",
              "      <td>200</td>\n",
              "    </tr>\n",
              "    <tr>\n",
              "      <th>14</th>\n",
              "      <td>3</td>\n",
              "      <td>10</td>\n",
              "      <td>170</td>\n",
              "    </tr>\n",
              "    <tr>\n",
              "      <th>15</th>\n",
              "      <td>4</td>\n",
              "      <td>1</td>\n",
              "      <td>150</td>\n",
              "    </tr>\n",
              "    <tr>\n",
              "      <th>16</th>\n",
              "      <td>4</td>\n",
              "      <td>2</td>\n",
              "      <td>140</td>\n",
              "    </tr>\n",
              "    <tr>\n",
              "      <th>17</th>\n",
              "      <td>4</td>\n",
              "      <td>4</td>\n",
              "      <td>170</td>\n",
              "    </tr>\n",
              "    <tr>\n",
              "      <th>18</th>\n",
              "      <td>4</td>\n",
              "      <td>5</td>\n",
              "      <td>140</td>\n",
              "    </tr>\n",
              "    <tr>\n",
              "      <th>19</th>\n",
              "      <td>4</td>\n",
              "      <td>7</td>\n",
              "      <td>140</td>\n",
              "    </tr>\n",
              "    <tr>\n",
              "      <th>20</th>\n",
              "      <td>4</td>\n",
              "      <td>9</td>\n",
              "      <td>140</td>\n",
              "    </tr>\n",
              "    <tr>\n",
              "      <th>21</th>\n",
              "      <td>4</td>\n",
              "      <td>10</td>\n",
              "      <td>140</td>\n",
              "    </tr>\n",
              "    <tr>\n",
              "      <th>22</th>\n",
              "      <td>5</td>\n",
              "      <td>3</td>\n",
              "      <td>200</td>\n",
              "    </tr>\n",
              "    <tr>\n",
              "      <th>23</th>\n",
              "      <td>5</td>\n",
              "      <td>4</td>\n",
              "      <td>200</td>\n",
              "    </tr>\n",
              "    <tr>\n",
              "      <th>24</th>\n",
              "      <td>5</td>\n",
              "      <td>5</td>\n",
              "      <td>200</td>\n",
              "    </tr>\n",
              "    <tr>\n",
              "      <th>25</th>\n",
              "      <td>5</td>\n",
              "      <td>7</td>\n",
              "      <td>200</td>\n",
              "    </tr>\n",
              "    <tr>\n",
              "      <th>26</th>\n",
              "      <td>5</td>\n",
              "      <td>8</td>\n",
              "      <td>200</td>\n",
              "    </tr>\n",
              "    <tr>\n",
              "      <th>27</th>\n",
              "      <td>5</td>\n",
              "      <td>9</td>\n",
              "      <td>200</td>\n",
              "    </tr>\n",
              "    <tr>\n",
              "      <th>28</th>\n",
              "      <td>6</td>\n",
              "      <td>1</td>\n",
              "      <td>150</td>\n",
              "    </tr>\n",
              "    <tr>\n",
              "      <th>29</th>\n",
              "      <td>6</td>\n",
              "      <td>2</td>\n",
              "      <td>80</td>\n",
              "    </tr>\n",
              "    <tr>\n",
              "      <th>30</th>\n",
              "      <td>6</td>\n",
              "      <td>3</td>\n",
              "      <td>50</td>\n",
              "    </tr>\n",
              "    <tr>\n",
              "      <th>31</th>\n",
              "      <td>6</td>\n",
              "      <td>6</td>\n",
              "      <td>220</td>\n",
              "    </tr>\n",
              "    <tr>\n",
              "      <th>32</th>\n",
              "      <td>6</td>\n",
              "      <td>9</td>\n",
              "      <td>50</td>\n",
              "    </tr>\n",
              "    <tr>\n",
              "      <th>33</th>\n",
              "      <td>7</td>\n",
              "      <td>1</td>\n",
              "      <td>150</td>\n",
              "    </tr>\n",
              "    <tr>\n",
              "      <th>34</th>\n",
              "      <td>7</td>\n",
              "      <td>2</td>\n",
              "      <td>80</td>\n",
              "    </tr>\n",
              "    <tr>\n",
              "      <th>35</th>\n",
              "      <td>7</td>\n",
              "      <td>3</td>\n",
              "      <td>80</td>\n",
              "    </tr>\n",
              "    <tr>\n",
              "      <th>36</th>\n",
              "      <td>7</td>\n",
              "      <td>5</td>\n",
              "      <td>140</td>\n",
              "    </tr>\n",
              "    <tr>\n",
              "      <th>37</th>\n",
              "      <td>7</td>\n",
              "      <td>7</td>\n",
              "      <td>80</td>\n",
              "    </tr>\n",
              "    <tr>\n",
              "      <th>38</th>\n",
              "      <td>7</td>\n",
              "      <td>9</td>\n",
              "      <td>80</td>\n",
              "    </tr>\n",
              "    <tr>\n",
              "      <th>39</th>\n",
              "      <td>7</td>\n",
              "      <td>10</td>\n",
              "      <td>80</td>\n",
              "    </tr>\n",
              "    <tr>\n",
              "      <th>40</th>\n",
              "      <td>8</td>\n",
              "      <td>8</td>\n",
              "      <td>200</td>\n",
              "    </tr>\n",
              "    <tr>\n",
              "      <th>41</th>\n",
              "      <td>9</td>\n",
              "      <td>9</td>\n",
              "      <td>0</td>\n",
              "    </tr>\n",
              "  </tbody>\n",
              "</table>\n",
              "</div>"
            ],
            "text/plain": [
              "    Captain  First_officer  Pair_Time\n",
              "0         1              1        150\n",
              "1         1              4        170\n",
              "2         1              5        150\n",
              "3         1              6        220\n",
              "4         1              8        200\n",
              "5         2              2        220\n",
              "6         2              6        220\n",
              "7         2              7        200\n",
              "8         2              8        220\n",
              "9         2              9        220\n",
              "10        3              3        170\n",
              "11        3              4        170\n",
              "12        3              6        220\n",
              "13        3              8        200\n",
              "14        3             10        170\n",
              "15        4              1        150\n",
              "16        4              2        140\n",
              "17        4              4        170\n",
              "18        4              5        140\n",
              "19        4              7        140\n",
              "20        4              9        140\n",
              "21        4             10        140\n",
              "22        5              3        200\n",
              "23        5              4        200\n",
              "24        5              5        200\n",
              "25        5              7        200\n",
              "26        5              8        200\n",
              "27        5              9        200\n",
              "28        6              1        150\n",
              "29        6              2         80\n",
              "30        6              3         50\n",
              "31        6              6        220\n",
              "32        6              9         50\n",
              "33        7              1        150\n",
              "34        7              2         80\n",
              "35        7              3         80\n",
              "36        7              5        140\n",
              "37        7              7         80\n",
              "38        7              9         80\n",
              "39        7             10         80\n",
              "40        8              8        200\n",
              "41        9              9          0"
            ]
          },
          "metadata": {},
          "execution_count": 17
        }
      ]
    },
    {
      "cell_type": "code",
      "metadata": {
        "colab": {
          "base_uri": "https://localhost:8080/"
        },
        "id": "ediKWODtIFa0",
        "outputId": "a4e3c204-d609-4dd8-8925-8a03386c44f5"
      },
      "source": [
        "p = []\n",
        "tme = []\n",
        "pair_time = 0\n",
        "cap = 0\n",
        "off = 0\n",
        "for i in range(0,len(Ti)):\n",
        "    mini = min([k for k in crew_time if k >Ti[i]])\n",
        "    for j in range(0,len(crew_time)):\n",
        "        if crew_time[j]== mini and captain[j]!=cap and first_officer[j]!=off:\n",
        "            p.append(j)\n",
        "            tme.append(crew_time[j])\n",
        "            crew_time[j] = -1\n",
        "            cap = captain[j]\n",
        "            off = first_officer[j]\n",
        "            break\n",
        "\n",
        "for i in range(10):\n",
        "    print(\"Crew assigned to Flight\",i+1,\":\", \"first officer: \",first_officer[p[i]],\"/\" ,\"captain: \",captain[p[i]])\n",
        "for i in tme:\n",
        "  pair_time += i\n",
        "    \n",
        "print('combination no.: ', p)\n",
        "print('combination fly time: ', tme)\n",
        "print('minimium crew pairing time: ', pair_time)"
      ],
      "execution_count": null,
      "outputs": [
        {
          "output_type": "stream",
          "name": "stdout",
          "text": [
            "Crew assigned to Flight 1 : first officer:  2 / captain:  4\n",
            "Crew assigned to Flight 2 : first officer:  5 / captain:  7\n",
            "Crew assigned to Flight 3 : first officer:  7 / captain:  4\n",
            "Crew assigned to Flight 4 : first officer:  4 / captain:  1\n",
            "Crew assigned to Flight 5 : first officer:  5 / captain:  4\n",
            "Crew assigned to Flight 6 : first officer:  3 / captain:  3\n",
            "Crew assigned to Flight 7 : first officer:  8 / captain:  1\n",
            "Crew assigned to Flight 8 : first officer:  9 / captain:  4\n",
            "Crew assigned to Flight 9 : first officer:  4 / captain:  3\n",
            "Crew assigned to Flight 10 : first officer:  7 / captain:  2\n",
            "combination no.:  [16, 36, 19, 1, 18, 10, 4, 20, 11, 7]\n",
            "combination fly time:  [140, 140, 140, 170, 140, 170, 200, 140, 170, 200]\n",
            "minimium crew pairing time:  1610\n"
          ]
        }
      ]
    },
    {
      "cell_type": "code",
      "metadata": {
        "colab": {
          "base_uri": "https://localhost:8080/"
        },
        "id": "LeHkimLHIHtn",
        "outputId": "d234e9e4-9d96-4c6b-852a-a21f3dc152e4"
      },
      "source": [
        "# Assumption made that the flight time of combination is not too long\n",
        "# a value 1000000 represents that first_officer or captain wont return in the time for next flight assigned to him\n",
        "# so a different (frist_officer - Captain) pair needs to be assigned\n",
        "for i in range(0, len(p)-2):\n",
        "    if captain[p[i]] == captain[p[i+2]]:\n",
        "        if tme[i] >= (ti[i+2]-ti[i]):\n",
        "            captain[p[i+2]] = 1000000*(captain[p[i]])\n",
        "    elif first_officer[p[i]] == first_officer[p[i+2]]:\n",
        "        if tme[i] >= (ti[i+2]-ti[i]):\n",
        "            first_officer[p[i+2]] = 1000000*(first_officer[p[i]])\n",
        "\n",
        "for i in range(10):\n",
        "  if captain[p[i]]%1000000 == 0:\n",
        "    print(\"Crew assigned to Flight\",i+1,\":\", \"first officer: \",first_officer[p[i]],\"/\" ,\"captain: \",int(captain[p[i]]/1000000), \"[Still on flight\", i-1, ', infeasible assignment]')\n",
        "  else:\n",
        "    print(\"Crew assigned to Flight\",i+1,\":\", \"first officer: \",first_officer[p[i]],\"/\" ,\"captain: \",captain[p[i]])\n",
        "    "
      ],
      "execution_count": null,
      "outputs": [
        {
          "output_type": "stream",
          "name": "stdout",
          "text": [
            "Crew assigned to Flight 1 : first officer:  2 / captain:  4\n",
            "Crew assigned to Flight 2 : first officer:  5 / captain:  7\n",
            "Crew assigned to Flight 3 : first officer:  7 / captain:  4\n",
            "Crew assigned to Flight 4 : first officer:  4 / captain:  1\n",
            "Crew assigned to Flight 5 : first officer:  5 / captain:  4 [Still of flight 3 , infeasible assignment]\n",
            "Crew assigned to Flight 6 : first officer:  3 / captain:  3\n",
            "Crew assigned to Flight 7 : first officer:  8 / captain:  1\n",
            "Crew assigned to Flight 8 : first officer:  9 / captain:  4\n",
            "Crew assigned to Flight 9 : first officer:  4 / captain:  3\n",
            "Crew assigned to Flight 10 : first officer:  7 / captain:  2\n"
          ]
        }
      ]
    },
    {
      "cell_type": "code",
      "metadata": {
        "colab": {
          "base_uri": "https://localhost:8080/"
        },
        "id": "XbE9IwxA4NIA",
        "outputId": "7d8acd10-7ec4-44c7-9269-bdf4270ddbd0"
      },
      "source": [
        "p = []\n",
        "tme = []\n",
        "pair_time = 0\n",
        "cap = 0\n",
        "off = 0\n",
        "for i in range(0,len(Ti)):\n",
        "    mini = min([k for k in crew_time if k >Ti[i]])\n",
        "    for j in range(0,len(crew_time)):\n",
        "        if crew_time[j]== mini and captain[j]!=cap and first_officer[j]!=off and captain[j]!=0 and first_officer[j]!=0 :\n",
        "            p.append(j)\n",
        "            tme.append(crew_time[j])\n",
        "            crew_time[j] = -1\n",
        "            cap = captain[j]\n",
        "            off = first_officer[j]\n",
        "            for i in range(0, len(captain)):\n",
        "              if captain[i] == captain[j]: \n",
        "                captain[i] = -1\n",
        "              if first_officer[i] == first_officer[j]:\n",
        "                first_officer[i] = -1\n",
        "            break\n",
        "\n",
        "for i in range(10):\n",
        "    print(\"Crew assigned to Flight\",i+1,\":\", \"first officer: \",first_officer[p[i]],\"/\" ,\"captain: \",captain[p[i]])\n",
        "for i in tme:\n",
        "  pair_time += i\n",
        "    \n",
        "print('combination no.: ', p)\n",
        "print('combination fly time: ', tme)\n",
        "print('minimium crew pairing time: ', pair_time)"
      ],
      "execution_count": null,
      "outputs": [
        {
          "output_type": "stream",
          "name": "stdout",
          "text": [
            "Crew assigned to Flight 1 : first officer:  -1 / captain:  -1\n",
            "Crew assigned to Flight 2 : first officer:  -1 / captain:  -1\n",
            "Crew assigned to Flight 3 : first officer:  -1 / captain:  -1\n",
            "Crew assigned to Flight 4 : first officer:  -1 / captain:  -1\n",
            "Crew assigned to Flight 5 : first officer:  -1 / captain:  -1\n",
            "Crew assigned to Flight 6 : first officer:  -1 / captain:  -1\n",
            "Crew assigned to Flight 7 : first officer:  -1 / captain:  -1\n",
            "Crew assigned to Flight 8 : first officer:  -1 / captain:  -1\n",
            "Crew assigned to Flight 9 : first officer:  -1 / captain:  -1\n",
            "Crew assigned to Flight 10 : first officer:  -1 / captain:  -1\n",
            "combination no.:  [16, 36, 18, 1, 19, 10, 4, 20, 11, 7]\n",
            "combination fly time:  [140, 140, 140, 170, 140, 170, 200, 140, 170, 200]\n",
            "minimium crew pairing time:  1610\n"
          ]
        }
      ]
    },
    {
      "cell_type": "code",
      "metadata": {
        "id": "d7tBMQkXQRoA"
      },
      "source": [
        ""
      ],
      "execution_count": null,
      "outputs": []
    }
  ]
}